{
 "cells": [
  {
   "cell_type": "markdown",
   "metadata": {},
   "source": [
    "### Objective of Data Preprocessing\n",
    "\n",
    "The goal is to aggregate the movie database to retrieve additional information about the films."
   ]
  },
  {
   "cell_type": "code",
   "execution_count": 22,
   "metadata": {},
   "outputs": [
    {
     "name": "stdout",
     "output_type": "stream",
     "text": [
      "The autoreload extension is already loaded. To reload it, use:\n",
      "  %reload_ext autoreload\n"
     ]
    }
   ],
   "source": [
    "%load_ext autoreload\n",
    "%autoreload 2"
   ]
  },
  {
   "cell_type": "code",
   "execution_count": 23,
   "metadata": {},
   "outputs": [],
   "source": [
    "import pandas as pd\n",
    "from utils import extract_title_year , remove_punctuation"
   ]
  },
  {
   "cell_type": "markdown",
   "metadata": {},
   "source": [
    "### Data Import\n",
    "\n",
    "IMDB and MovieLens are movie databases. They contain information about movies, actors, directors, user ratings, and more."
   ]
  },
  {
   "cell_type": "code",
   "execution_count": 24,
   "metadata": {},
   "outputs": [
    {
     "name": "stderr",
     "output_type": "stream",
     "text": [
      "/var/folders/nm/xmbyqkhd1wjg9j848np2w3gr0000gn/T/ipykernel_56146/538781482.py:25: DtypeWarning: Columns (4) have mixed types. Specify dtype option on import or set low_memory=False.\n",
      "  movies_imdb = pd.read_csv('data/title.basics.tsv', sep='\\t')\n"
     ]
    }
   ],
   "source": [
    "users_movies_lens = pd.read_csv(\n",
    "    'data/ml-1m/users.dat',\n",
    "    sep=\"::\",\n",
    "    names=[\"user_id\", \"sex\", \"age_group\", \"occupation\", \"zip_code\"],\n",
    "    engine=\"python\",\n",
    ")\n",
    "\n",
    "ratings_movies_lens = pd.read_csv(\n",
    "    'data/ml-1m/ratings.dat',\n",
    "    sep=\"::\",\n",
    "    names=[\"user_id\", \"movie_id\", \"rating\", \"unix_timestamp\"],\n",
    "    engine=\"python\",\n",
    ")\n",
    "\n",
    "movies_movies_lens = pd.read_csv(\n",
    "    'data/ml-1m/movies.dat',\n",
    "    sep=\"::\",\n",
    "    names=[\"movie_id\", \"title\", \"genres\"],\n",
    "    engine=\"python\",\n",
    "    encoding=\"latin-1\",\n",
    ")\n",
    "\n",
    "ratings_imdb = pd.read_csv('data/title.ratings.tsv', sep='\\t')\n",
    "\n",
    "movies_imdb = pd.read_csv('data/title.basics.tsv', sep='\\t')"
   ]
  },
  {
   "cell_type": "code",
   "execution_count": 25,
   "metadata": {},
   "outputs": [],
   "source": [
    "users_movies_lens[\"user_id\"] = users_movies_lens[\"user_id\"].apply(lambda x: f\"user_{x}\")\n",
    "users_movies_lens[\"age_group\"] = users_movies_lens[\"age_group\"].apply(lambda x: f\"group_{x}\")\n",
    "users_movies_lens[\"occupation\"] = users_movies_lens[\"occupation\"].apply(lambda x: f\"occupation_{x}\")\n",
    "\n",
    "movies_movies_lens[\"movie_id\"] = movies_movies_lens[\"movie_id\"].apply(lambda x: f\"movie_{x}\")\n",
    "\n",
    "ratings_movies_lens[\"movie_id\"] = ratings_movies_lens[\"movie_id\"].apply(lambda x: f\"movie_{x}\")\n",
    "ratings_movies_lens[\"user_id\"] = ratings_movies_lens[\"user_id\"].apply(lambda x: f\"user_{x}\")\n",
    "ratings_movies_lens[\"rating\"] = ratings_movies_lens[\"rating\"].apply(lambda x: float(x))\n"
   ]
  },
  {
   "cell_type": "markdown",
   "metadata": {},
   "source": [
    "We separate the release date and year of the movie to use them in the analyses."
   ]
  },
  {
   "cell_type": "code",
   "execution_count": 26,
   "metadata": {},
   "outputs": [],
   "source": [
    "movies_movies_lens[['title', 'year']] = movies_movies_lens['title'].apply(extract_title_year)"
   ]
  },
  {
   "cell_type": "markdown",
   "metadata": {},
   "source": [
    "We only keep the movies that are in both datasets."
   ]
  },
  {
   "cell_type": "code",
   "execution_count": 27,
   "metadata": {},
   "outputs": [],
   "source": [
    "movies_imdb = movies_imdb[movies_imdb['titleType'].isin(['movie', 'tvMovie'])]"
   ]
  },
  {
   "cell_type": "markdown",
   "metadata": {},
   "source": [
    "Replace the missing values in the year column with the 0 in order to be able to convert the column to an integer."
   ]
  },
  {
   "cell_type": "code",
   "execution_count": 28,
   "metadata": {},
   "outputs": [],
   "source": [
    "movies_imdb.startYear = movies_imdb.startYear.replace('\\\\N', 0)"
   ]
  },
  {
   "cell_type": "markdown",
   "metadata": {},
   "source": [
    "### Code Description\n",
    "\n",
    "This code prepares and cleans movie titles from two different databases (IMDb and MovieLens) to make them comparable. Here is a detailed explanation of each step:\n",
    "\n",
    "1. **Normalization of IMDb movie titles (primaryTitle):**\n",
    "    - Titles are converted to lowercase.\n",
    "    - Tab, newline, and carriage return characters are removed.\n",
    "    - Leading and trailing whitespace is stripped.\n",
    "    - Punctuation is removed.\n",
    "    - The article \"the\" is removed from titles.\n",
    "\n",
    "2. **Normalization of IMDb movie titles (originalTitle):**\n",
    "    - Titles are processed similarly to `primaryTitle`, converting to lowercase, removing tab, newline, and carriage return characters, and stripping leading and trailing whitespace.\n",
    "    - Punctuation is removed.\n",
    "    - The article \"the\" is removed from titles.\n",
    "\n",
    "3. **Normalization of MovieLens movie titles:**\n",
    "    - Titles are converted to lowercase.\n",
    "    - Tab, newline, and carriage return characters are removed.\n",
    "    - Titles are truncated before parentheses (to remove years).\n",
    "    - Leading and trailing whitespace is stripped.\n",
    "    - Punctuation is removed.\n",
    "    - The article \"the\" is removed from titles.\n",
    "\n",
    "These steps allow for the comparison and merging of movie titles from both databases by reducing variations due to differences in case, punctuation, and articles."
   ]
  },
  {
   "cell_type": "code",
   "execution_count": 29,
   "metadata": {},
   "outputs": [],
   "source": [
    "movies_imdb['title_primary_compared'] = movies_imdb['primaryTitle'].str.lower().str.replace(r'[\\t\\n\\r]', '', regex=True).str.strip()\n",
    "movies_imdb['title_primary_compared_no_ponct'] = movies_imdb['title_primary_compared'].apply(remove_punctuation)\n",
    "movies_imdb['title_primary_no_the'] = movies_imdb['title_primary_compared_no_ponct'].astype(str).str.replace('the', '').str.strip()\n",
    "\n",
    "movies_imdb['title_original_compared'] = movies_imdb['originalTitle'].str.lower().str.replace(r'[\\t\\n\\r]', '', regex=True).str.strip()\n",
    "movies_imdb['title_original_compared_no_ponct'] = movies_imdb['title_original_compared'].apply(remove_punctuation)\n",
    "movies_imdb['title_original_no_the'] = movies_imdb['title_original_compared_no_ponct'].astype(str).str.replace('the', '').str.strip()\n",
    "\n",
    "movies_movies_lens['title_compared'] = movies_movies_lens['title'].str.lower().str.replace(r'[\\t\\n\\r]', '', regex=True).apply(lambda x: x.split('(')[0].strip()).apply(lambda x: x.replace('\\n', ''))\n",
    "movies_movies_lens['title_compared_no_ponct'] = movies_movies_lens['title_compared'].apply(remove_punctuation)\n",
    "movies_movies_lens['title_no_the'] = movies_movies_lens['title_compared_no_ponct'].astype(str).str.replace('the', '').str.strip()"
   ]
  },
  {
   "cell_type": "markdown",
   "metadata": {},
   "source": [
    "This code performs additional processing on movie titles from the MovieLens database to handle specific cases where titles may have been stored in a particular format.\n",
    "\n",
    "\n",
    "1. **Adjust Titles with \", the\" Suffix:**\n",
    "    - The code checks each title in the `title_compared` column for the presence of the suffix \", the\".\n",
    "    - If a title contains \", the\", the code modifies the title to move \"the\" to the beginning of the title.\n",
    "    - Specifically, it splits the title at the last occurrence of \", \" and then reconstructs the title by prepending \"the \" to the main part of the title.\n",
    "    - If \", the\" is not found in the title, the title remains unchanged.\n",
    "\n",
    "##### Example\n",
    "- **Original Title:** \"Empire Strikes Back, the\"\n",
    "- **Processed Title:** \"the Empire Strikes Back\"\n",
    "\n",
    "This step ensures consistency in how titles starting with \"the\" are handled, making them more uniform and easier to compare across different datasets."
   ]
  },
  {
   "cell_type": "code",
   "execution_count": 30,
   "metadata": {},
   "outputs": [],
   "source": [
    "movies_movies_lens['title_compared'] = movies_movies_lens['title_compared'].apply(lambda x: \"the \" + x.rsplit(\", \", 1)[0] if \", the\" in x else x)"
   ]
  },
  {
   "cell_type": "markdown",
   "metadata": {},
   "source": [
    "These merging operations aim Ensure Robust Matching by using different processed versions of the titles, the code maximizes the chances of correctly matching movie records between the two datasets despite variations in title formatting."
   ]
  },
  {
   "cell_type": "code",
   "execution_count": 31,
   "metadata": {},
   "outputs": [],
   "source": [
    "movies_primary = pd.merge(movies_imdb, movies_movies_lens, left_on=['title_primary_compared'], right_on=['title_compared', ])\n",
    "movies_original = pd.merge(movies_imdb, movies_movies_lens, left_on=['title_original_compared'], right_on=['title_compared', ])\n",
    "\n",
    "movies_primary_no_ponct = pd.merge(movies_imdb, movies_movies_lens, left_on=['title_primary_compared_no_ponct',], right_on=['title_compared_no_ponct', ])\n",
    "movies_original_no_ponct = pd.merge(movies_imdb, movies_movies_lens, left_on=['title_original_compared_no_ponct', ], right_on=['title_compared_no_ponct',])\n",
    "\n",
    "movies_primary_no_ponct_no_the = pd.merge(movies_imdb, movies_movies_lens, left_on=['title_primary_no_the'], right_on=['title_no_the',])\n",
    "movies_original_no_ponct_no_the = pd.merge(movies_imdb, movies_movies_lens, left_on=['title_original_no_the'], right_on=['title_no_the',])\n"
   ]
  },
  {
   "cell_type": "markdown",
   "metadata": {},
   "source": [
    "1. **Concatenation of DataFrames:**\n",
    "    - `movies`: The various DataFrames resulting from the merges (`movies_primary`, `movies_original`, `movies_primary_no_ponct`, `movies_original_no_ponct`, `movies_primary_no_ponct_no_the`, `movies_original_no_ponct_no_the`) are concatenated into a single DataFrame.\n",
    "\n",
    "2. **Removal of Duplicates:**\n",
    "    - Duplicates are removed based on the `tconst` column (unique identifier for movies in IMDb) to ensure there are no duplicate entries in the final dataset.\n",
    "\n",
    "3. **Filtering by Year:**\n",
    "    - The movies are filtered to keep only those whose release year (`year`) matches the `startYear` in IMDb. This ensures consistency in the movie release date information."
   ]
  },
  {
   "cell_type": "code",
   "execution_count": 32,
   "metadata": {},
   "outputs": [],
   "source": [
    "movies = pd.concat([movies_primary, movies_original, movies_primary_no_ponct, movies_original_no_ponct, movies_primary_no_ponct_no_the, movies_original_no_ponct_no_the])\n",
    "movies.drop_duplicates(subset=['tconst'], inplace=True)\n",
    "movies = movies[movies['year'] == movies['startYear']]"
   ]
  },
  {
   "cell_type": "code",
   "execution_count": 33,
   "metadata": {},
   "outputs": [
    {
     "name": "stdout",
     "output_type": "stream",
     "text": [
      "Number of movies in the lens dataset: 3333\n"
     ]
    }
   ],
   "source": [
    "print(f\"Number of movies in the lens dataset: {len(movies)}\")"
   ]
  },
  {
   "cell_type": "markdown",
   "metadata": {},
   "source": [
    "Remove unnecessary intermediate and redundant columns from the final consolidated movie dataset to streamline it for further analysis and modeling."
   ]
  },
  {
   "cell_type": "code",
   "execution_count": 34,
   "metadata": {},
   "outputs": [],
   "source": [
    "drop_columns = ['title_primary_compared', 'title_primary_compared_no_ponct', 'title_primary_no_the', 'title_original_compared', 'title_original_compared_no_ponct', 'title_original_no_the', 'title_compared', 'title_compared_no_ponct', 'title_no_the', 'titleType','startYear', 'originalTitle', 'primaryTitle', 'genres_x','endYear']\n",
    "movies = movies.drop(columns=drop_columns)"
   ]
  },
  {
   "cell_type": "markdown",
   "metadata": {},
   "source": [
    "Merge the movie dataset with the ratings dataset to include the ratings information for each movie."
   ]
  },
  {
   "cell_type": "code",
   "execution_count": 35,
   "metadata": {},
   "outputs": [],
   "source": [
    "movies = pd.merge(movies, ratings_imdb, left_on='tconst', right_on='tconst')"
   ]
  },
  {
   "cell_type": "markdown",
   "metadata": {},
   "source": [
    "One-hot encode the genres column to convert the categorical data into a numerical format that can be used in machine learning models."
   ]
  },
  {
   "cell_type": "code",
   "execution_count": 36,
   "metadata": {},
   "outputs": [],
   "source": [
    "genres = [\n",
    "    \"Action\",\n",
    "    \"Adventure\",\n",
    "    \"Animation\",\n",
    "    \"Children's\",\n",
    "    \"Comedy\",\n",
    "    \"Crime\",\n",
    "    \"Documentary\",\n",
    "    \"Drama\",\n",
    "    \"Fantasy\",\n",
    "    \"Film-Noir\",\n",
    "    \"Horror\",\n",
    "    \"Musical\",\n",
    "    \"Mystery\",\n",
    "    \"Romance\",\n",
    "    \"Sci-Fi\",\n",
    "    \"Thriller\",\n",
    "    \"War\",\n",
    "    \"Western\",\n",
    "]\n",
    "\n",
    "for genre in genres:\n",
    "    movies[genre] = movies[\"genres_y\"].apply(\n",
    "        lambda values: int(genre in values.split(\"|\"))\n",
    "    )"
   ]
  },
  {
   "cell_type": "markdown",
   "metadata": {},
   "source": [
    "Remove the tconst column, which is no longer needed, as the movie identifier is not required for the analysis."
   ]
  },
  {
   "cell_type": "code",
   "execution_count": 37,
   "metadata": {},
   "outputs": [],
   "source": [
    "movies = movies.drop(columns=[\"tconst\"])"
   ]
  },
  {
   "cell_type": "markdown",
   "metadata": {},
   "source": [
    "Reorder the columns in the final dataset to have the movie title and year at the beginning, followed by the ratings information and genres."
   ]
  },
  {
   "cell_type": "code",
   "execution_count": 38,
   "metadata": {},
   "outputs": [],
   "source": [
    "new_index = ['movie_id', 'title', 'year', 'genres_y', 'isAdult', 'runtimeMinutes', 'averageRating', 'numVotes', 'Action', 'Adventure', 'Animation', 'Children\\'s', 'Comedy', 'Crime', 'Documentary', 'Drama', 'Fantasy', 'Film-Noir', 'Horror', 'Musical', 'Mystery', 'Romance', 'Sci-Fi', 'Thriller', 'War', 'Western']\n",
    "movies = movies.reindex(columns=new_index)"
   ]
  },
  {
   "cell_type": "markdown",
   "metadata": {},
   "source": [
    "Rename the columns ```genres_y``` to ```genres``` to reflect the final dataset's structure."
   ]
  },
  {
   "cell_type": "code",
   "execution_count": 39,
   "metadata": {},
   "outputs": [],
   "source": [
    "movies = movies.rename(columns={'genres_y': 'genres'})"
   ]
  },
  {
   "cell_type": "markdown",
   "metadata": {},
   "source": [
    "Standardize the grades by dividing them by 2 to have a scale from 0 to 5."
   ]
  },
  {
   "cell_type": "code",
   "execution_count": 40,
   "metadata": {},
   "outputs": [],
   "source": [
    "movies['averageRating'] = movies['averageRating']/2"
   ]
  },
  {
   "cell_type": "markdown",
   "metadata": {},
   "source": [
    "#### Save the final movie dataset to a CSV file for further analysis and modeling."
   ]
  },
  {
   "cell_type": "code",
   "execution_count": 41,
   "metadata": {},
   "outputs": [],
   "source": [
    "movies.to_csv('data/movies.csv', index=False)"
   ]
  }
 ],
 "metadata": {
  "kernelspec": {
   "display_name": "SCIA",
   "language": "python",
   "name": "python3"
  },
  "language_info": {
   "codemirror_mode": {
    "name": "ipython",
    "version": 3
   },
   "file_extension": ".py",
   "mimetype": "text/x-python",
   "name": "python",
   "nbconvert_exporter": "python",
   "pygments_lexer": "ipython3",
   "version": "3.12.2"
  }
 },
 "nbformat": 4,
 "nbformat_minor": 2
}
